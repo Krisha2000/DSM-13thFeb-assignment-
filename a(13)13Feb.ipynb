{
 "cells": [
  {
   "cell_type": "markdown",
   "id": "fb904f1f-3f2b-4b20-ac3e-5b1e0322f86c",
   "metadata": {},
   "source": [
    "# Quetion : 1"
   ]
  },
  {
   "cell_type": "markdown",
   "id": "f1eb728f-98ec-4410-99de-abab4a2b26c6",
   "metadata": {},
   "source": [
    "The Exception class is the base class for all exceptions in Python. It provides a consistent way of handling errors and allows us to create custom exceptions that are tailored to our specific needs. By using the Exception class, we can ensure that our custom exceptions are compatible with the existing exception hierarchy and can be handled in the same way as other exceptions. This makes it easier to debug and maintain our code."
   ]
  },
  {
   "cell_type": "markdown",
   "id": "118e6d63-4f34-4031-9301-ecb8d42679e5",
   "metadata": {},
   "source": [
    "# Quetion : 2"
   ]
  },
  {
   "cell_type": "code",
   "execution_count": 5,
   "id": "e62bcbc7-dcf7-482b-a635-b58c0a5e302d",
   "metadata": {},
   "outputs": [
    {
     "name": "stdout",
     "output_type": "stream",
     "text": [
      "Python Exception Hierarchy\n",
      "\n",
      "BaseException\n",
      " +-- SystemExit\n",
      " +-- KeyboardInterrupt\n",
      " +-- GeneratorExit\n",
      "\n",
      "Exception\n",
      " +-- StopIteration\n",
      " +-- Arithmetic\n"
     ]
    }
   ],
   "source": [
    "# Python Exception Hierarchy\n",
    "try:\n",
    "    print(\"Python Exception Hierarchy\")\n",
    "except Exception as e:\n",
    "    print(\"Exception Occurred:\", e)\n",
    "finally:\n",
    "    print(\"\\nBaseException\")  # Base class for all exceptions\n",
    "    print(\" +-- SystemExit\")\n",
    "    print(\" +-- KeyboardInterrupt\")\n",
    "    print(\" +-- GeneratorExit\")\n",
    "    print(\"\\nException\")  # Base class for all built-in exceptions\n",
    "    print(\" +-- StopIteration\")\n",
    "    print(\" +-- Arithmetic\")"
   ]
  },
  {
   "cell_type": "markdown",
   "id": "899c2e43-913e-4d59-b5dd-014c12d5f71d",
   "metadata": {},
   "source": [
    "# Quetion : 3"
   ]
  },
  {
   "cell_type": "markdown",
   "id": "19f75384-517e-4985-8e79-d6137bb95651",
   "metadata": {},
   "source": [
    "The ArithmeticError class defines two errors: ZeroDivisionError and OverflowError. \n"
   ]
  },
  {
   "cell_type": "markdown",
   "id": "0337a9e4-8d15-4c26-a62e-8b1b3fdf56b4",
   "metadata": {},
   "source": [
    "ZeroDivisionError is raised when a number is divided by zero. For example, if you try to divide 10 by 0, you will get a ZeroDivisionError: "
   ]
  },
  {
   "cell_type": "code",
   "execution_count": 9,
   "id": "ec9b6f05-a727-4066-9a35-40ff71f48dfc",
   "metadata": {},
   "outputs": [
    {
     "name": "stdout",
     "output_type": "stream",
     "text": [
      "error occoured :  division by zero\n"
     ]
    }
   ],
   "source": [
    "try :\n",
    "    10/0\n",
    "except ZeroDivisionError as e:\n",
    "    print(\"error occoured : \",e)"
   ]
  },
  {
   "cell_type": "markdown",
   "id": "5f8c4288-7636-4a93-8d4c-341fc9bf50fe",
   "metadata": {},
   "source": [
    "OverflowError is raised when the result of an arithmetic operation is too large to be represented. For example, if you try to calculate the result of 2^1000, you will get an OverflowError: "
   ]
  },
  {
   "cell_type": "code",
   "execution_count": 13,
   "id": "b73b5b88-260a-48a7-bdb1-9defc231fecf",
   "metadata": {},
   "outputs": [
    {
     "name": "stdout",
     "output_type": "stream",
     "text": [
      "5.0\n",
      "25.0\n",
      "15625.0\n",
      "5.960464477539062e+16\n",
      "7.52316384526264e+83\n",
      "error occoured :  (34, 'Numerical result out of range')\n"
     ]
    }
   ],
   "source": [
    "try :\n",
    "    j = 5.0\n",
    "\n",
    "    for i in range(1, 1000): \n",
    "        j = j**i\n",
    "        print(j)\n",
    "except OverflowError as e:\n",
    "    print(\"error occoured : \",e)"
   ]
  },
  {
   "cell_type": "markdown",
   "id": "a6f092dd-dfac-457a-924e-794d7d1af15c",
   "metadata": {},
   "source": [
    "# Quetion : 4"
   ]
  },
  {
   "cell_type": "markdown",
   "id": "c808bfa5-fdc2-4c84-9934-6772ba878b71",
   "metadata": {},
   "source": [
    "LookupError is a class used to represent errors that occur when attempting to access an item in a data structure that does not exist. It is the parent class of two other error classes, KeyError and IndexError. "
   ]
  },
  {
   "cell_type": "markdown",
   "id": "4b924b35-d37a-4d77-839d-a72915c2e1cc",
   "metadata": {},
   "source": [
    "KeyError occurs when attempting to access a dictionary item with a key that does not exist. For example, if you try to access the value of a dictionary item with a key that does not exist, you will get a KeyError:"
   ]
  },
  {
   "cell_type": "code",
   "execution_count": 15,
   "id": "e8a01b39-07ed-4cc7-afca-ba89ebcdf0f8",
   "metadata": {},
   "outputs": [
    {
     "name": "stdout",
     "output_type": "stream",
     "text": [
      "error occoured , there is no dictionary named 'c'\n"
     ]
    }
   ],
   "source": [
    "my_dict = {'a': 1, 'b': 2}\n",
    "try :\n",
    "    print(my_dict['c'])\n",
    "except KeyError as e:\n",
    "    print(\"error occoured , there is no dictionary named\",e)"
   ]
  },
  {
   "cell_type": "markdown",
   "id": "0156cc0b-5c2d-4f34-b2ec-6ded83999341",
   "metadata": {},
   "source": [
    "IndexError occurs when attempting to access a list item with an index that does not exist. For example, if you try to access the value of a list item with an index that is out of bounds, you will get an Index"
   ]
  },
  {
   "cell_type": "code",
   "execution_count": 18,
   "id": "b0225602-c334-48c9-a4f6-cfa4c7f80d08",
   "metadata": {},
   "outputs": [
    {
     "name": "stdout",
     "output_type": "stream",
     "text": [
      "error occured; there is only 5 elements in list and you are finding 7th element, list index out of range\n"
     ]
    }
   ],
   "source": [
    "my_list=[1,2,'r',\"krisha\",45.8]\n",
    "a=len(my_list)\n",
    "try :\n",
    "    print(my_list[6])\n",
    "except IndexError as e :\n",
    "    print(f\"error occured; there is only {a} elements in list and you are finding 7th element,\",e)"
   ]
  },
  {
   "cell_type": "markdown",
   "id": "fae82c49-3312-437a-9ab0-b60bc7ef2408",
   "metadata": {},
   "source": [
    "# Quetion : 5"
   ]
  },
  {
   "cell_type": "markdown",
   "id": "9196d1e1-e472-4149-9255-ef6693964e0d",
   "metadata": {},
   "source": [
    "ImportError is an exception raised when a module or package cannot be found. It is usually raised when the import statement fails to locate the module, or when an imported module attempts to import a module that cannot be found.\n",
    "\n",
    "ModuleNotFoundError is a subclass of ImportError that is raised when a module is not found during an import statement. It is usually raised when the module name is misspelled or when the module has not been installed."
   ]
  },
  {
   "cell_type": "markdown",
   "id": "ecb3782e-3c8d-4379-9bf7-ba3c4947e916",
   "metadata": {},
   "source": [
    "# Quetion : 6"
   ]
  },
  {
   "cell_type": "markdown",
   "id": "07924aec-2ee2-498d-a20e-6dd837d08d29",
   "metadata": {},
   "source": [
    "### use always a specific exception\n",
    "### print always a valid msg\n",
    "### always try to log\n",
    "### always avoid to write a multiple exception handling \n",
    "### prepare a proper documnetation\n",
    "### cleanup all the resources "
   ]
  },
  {
   "cell_type": "code",
   "execution_count": null,
   "id": "79972660-896a-4bc6-b6d8-441db6c65a09",
   "metadata": {},
   "outputs": [],
   "source": []
  }
 ],
 "metadata": {
  "kernelspec": {
   "display_name": "Python 3 (ipykernel)",
   "language": "python",
   "name": "python3"
  },
  "language_info": {
   "codemirror_mode": {
    "name": "ipython",
    "version": 3
   },
   "file_extension": ".py",
   "mimetype": "text/x-python",
   "name": "python",
   "nbconvert_exporter": "python",
   "pygments_lexer": "ipython3",
   "version": "3.10.8"
  }
 },
 "nbformat": 4,
 "nbformat_minor": 5
}
